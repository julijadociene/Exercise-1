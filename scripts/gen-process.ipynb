{
 "cells": [
  {
   "cell_type": "code",
   "execution_count": 35,
   "metadata": {},
   "outputs": [],
   "source": [
    "import numpy as np\n",
    "import pandas as pd\n",
    "\n",
    "# reproducibility\n",
    "np.random.seed(10)\n",
    "\n",
    "# number of observations\n",
    "size = 1000\n",
    "\n",
    "# feature setup\n",
    "airplane_type = np.random.choice(a=range(3), size=size)\n",
    "nr_passengers = np.random.choice(a=range(5), size=size)\n",
    "airpl_gas_type = np.random.choice(a=range(2), size=size)\n",
    "accesible_region = np.random.choice(a=range(6), size=size)\n",
    "year = np.random.choice(a=range(2010,2020), size=size)\n",
    "# year = np.random.choice(pd.date_range(start='2010', end='2020', freq='Y'), size=size)\n",
    "month = np.random.choice(a=range(12), size=size)\n",
    "airport_size = np.random.choice(a=range(3), size=size)\n",
    "nr_shops = np.random.choice(a=range(10), size=size)\n",
    "nr_cafes = np.random.choice(a=range(10), size=size)\n",
    "hotel = np.random.choice(a=range(2), size=size)\n",
    "y_airport_profit = np.random.choice(a=range(5), size=size)\n",
    "nr_employees = np.random.choice(a=range(20,1000), size=size)\n"
   ]
  },
  {
   "cell_type": "code",
   "execution_count": null,
   "metadata": {},
   "outputs": [],
   "source": [
    "#update columns based on others\n",
    "\n",
    "#number of passengers based on plane size\n",
    "\n",
    "#airport size and airport profits, nr of shops, nr. of cafes, hotel, employees nr"
   ]
  },
  {
   "cell_type": "code",
   "execution_count": null,
   "metadata": {},
   "outputs": [],
   "source": [
    "#Dataframe\n",
    "data = {'airplane_type': airplane_type, \n",
    "        'nr_passengers': nr_passengers,\n",
    "        'airpl_gas_type': airpl_gas_type, \n",
    "        'accesible_region': accesible_region,\n",
    "        'year': year, \n",
    "        'month': month,\n",
    "        'airport_size': airport_size, \n",
    "        'nr_shops': nr_shops,\n",
    "        'nr_cafes': nr_cafes, \n",
    "        'hotel': hotel,\n",
    "        'y_airport_profit': y_airport_profit, \n",
    "        'nr_employees': nr_employees}\n",
    "df = pd.DataFrame(data)\n",
    "print(df)"
   ]
  }
 ],
 "metadata": {
  "interpreter": {
   "hash": "6c12bfe9edea090c203d84e493ed2ca898c798ca50ab5bfbc3d52896faaad808"
  },
  "kernelspec": {
   "display_name": "Python 3.9.10 64-bit (windows store)",
   "language": "python",
   "name": "python3"
  },
  "language_info": {
   "codemirror_mode": {
    "name": "ipython",
    "version": 3
   },
   "file_extension": ".py",
   "mimetype": "text/x-python",
   "name": "python",
   "nbconvert_exporter": "python",
   "pygments_lexer": "ipython3",
   "version": "3.9.10"
  },
  "orig_nbformat": 4
 },
 "nbformat": 4,
 "nbformat_minor": 2
}
